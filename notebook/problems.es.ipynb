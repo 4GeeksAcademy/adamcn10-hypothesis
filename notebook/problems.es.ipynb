{
 "cells": [
  {
   "cell_type": "markdown",
   "id": "d9d036c6",
   "metadata": {},
   "source": [
    "# Problemas de prueba de hipótesis"
   ]
  },
  {
   "cell_type": "code",
   "execution_count": 33,
   "id": "e0fa350c",
   "metadata": {},
   "outputs": [],
   "source": [
    "import numpy as np\n",
    "import scipy"
   ]
  },
  {
   "cell_type": "markdown",
   "id": "d157c4db",
   "metadata": {},
   "source": [
    "## Ejercicio 1\n",
    "\n",
    "Usted es un nutricionista que investiga dos tipos diferentes de dietas para ver si existe una diferencia significativa en la pérdida de peso después de un mes. Eliges dos grupos aleatorios de personas; un grupo sigue la primera dieta y el otro sigue la segunda. Al final del mes, se registra la pérdida de peso (en kg) de cada persona:\n",
    "\n",
    "| Diet 1 | Diet 2 |\n",
    "|:-------|:-------|\n",
    "| 2.0 | 3.0 |\n",
    "| 2.5 | 3.2 |\n",
    "| 3.0 | 3.1 |\n",
    "| 2.8 | 2.9 |\n",
    "| 2.3 | 2.8 |\n",
    "| 2.7 | 3.0 |\n",
    "| 2.5 | 3.2 |\n",
    "\n",
    "Con estos datos se busca responder a la siguiente pregunta: ¿Existe una diferencia significativa en la pérdida de peso promedio entre las personas que siguieron la primera dieta y las que siguieron la segunda dieta?\n",
    "\n",
    "Para sacar conclusiones, siga los siguientes puntos:\n",
    "\n",
    "- Enunciar la hipótesis: hipótesis nula y alternativa.\n",
    "- Realizar la prueba para comprobar la hipótesis. Puede utilizar la prueba t de Student.\n",
    "- Analizar las conclusiones."
   ]
  },
  {
   "cell_type": "markdown",
   "id": "3d4add61",
   "metadata": {},
   "source": [
    "### Enunciamos la hipótesis\n",
    "- H_0: \"No existe una diferencia significativa en la perdida de peso despues de un mes.\"\n",
    "- H_1: \"Sí existe una diferencia significativa en la perdida de peso despues de un mes.\""
   ]
  },
  {
   "cell_type": "markdown",
   "id": "257dba17",
   "metadata": {},
   "source": [
    "### Realizamos las pruebas\n",
    ">Inicializamos el Nivel de Significancia (alpha) en un 5% y las listas con los datos.\n"
   ]
  },
  {
   "cell_type": "code",
   "execution_count": 34,
   "id": "8555ad76",
   "metadata": {},
   "outputs": [],
   "source": [
    "alpha = 0.05\n",
    "diet_1 = np.array([2.0, 2.5, 3.0, 2.8, 2.3, 2.7, 2.5])\n",
    "diet_2 = np.array([3.0, 3.2, 3.1, 2.9, 2.8, 3.0, 3.2])"
   ]
  },
  {
   "cell_type": "markdown",
   "id": "f2129acc",
   "metadata": {},
   "source": [
    "\n",
    ">Aplicamos la funcion de scipy ttest_ind() ya que tenemos dos conjuntos de datos para obtener el p-value y lo convierto de un float de numpy a uno de python por estetica y decison personal.\n"
   ]
  },
  {
   "cell_type": "code",
   "execution_count": 35,
   "id": "c8ea49a1",
   "metadata": {},
   "outputs": [
    {
     "data": {
      "text/plain": [
       "0.004083270191713912"
      ]
     },
     "execution_count": 35,
     "metadata": {},
     "output_type": "execute_result"
    }
   ],
   "source": [
    "_, p_value= scipy.stats.ttest_ind(diet_1, diet_2)\n",
    "float(p_value)"
   ]
  },
  {
   "cell_type": "markdown",
   "id": "110e8281",
   "metadata": {},
   "source": [
    "\n",
    ">Verificamos la hipotesis comparando el p-value con el Nivel de significacnia."
   ]
  },
  {
   "cell_type": "code",
   "execution_count": 36,
   "id": "8e0f3cf0",
   "metadata": {},
   "outputs": [
    {
     "data": {
      "text/plain": [
       "'Rechazamos que no haya una diferencia significativa en la perdida de peso'"
      ]
     },
     "execution_count": 36,
     "metadata": {},
     "output_type": "execute_result"
    }
   ],
   "source": [
    "'Rechazamos que no haya una diferencia significativa en la perdida de peso' if p_value <= alpha else 'No podemos rechazar que no haya una diferencia significativa en la perdida de peso'"
   ]
  },
  {
   "cell_type": "markdown",
   "id": "60eda96e",
   "metadata": {},
   "source": [
    "### Conclusiones\n",
    "Vemos en la ejecución del código que rechazamos H_0 (No existe una diferencia significativa en la perdida de peso despues de un mes) y por ello podemos afirmar H_1 (Si existe una diferencia significativa en la perdida de peso despues de un mes). He probado también que con un nivel de significancia menor (0,01) seguimos manteniendo el resultado, lo que nos da un rango más amplio para seguir afirmando la conclusión. \n",
    "\n",
    "En resumen, podemos afirmar que hay una diferencia significativa en la perdida de peso generada entre las dos dietas."
   ]
  },
  {
   "cell_type": "markdown",
   "id": "fc5f3721",
   "metadata": {},
   "source": [
    "## Ejercicio 2\n"
   ]
  },
  {
   "cell_type": "markdown",
   "id": "f432e18e",
   "metadata": {},
   "source": [
    "### Intro ANOVA\n",
    "\n",
    "**ANOVA** (*Analysis of Variance - Análisis de variación*) Es una técnica estadística utilizada para comparar las medidas de dos o más grupos. La idea detrás de ANOVA es descomponer la variabilidad total de los datos en dos componentes: variabilidad entre grupos y variabilidad dentro de los grupos:\n",
    "\n",
    "- **Variabilidad entre grupos**: Esta variabilidad se refiere a las diferencias entre las medias del grupo. Si esta variabilidad es considerablemente mayor que la variabilidad dentro del grupo, podría ser una indicación de que al menos una de las medias del grupo es diferente.\n",
    "- **Variabilidad dentro del grupo**: Esta variabilidad se refiere a la dispersión de los datos dentro de cada grupo. Si todos los grupos tienen una variabilidad similar, entonces cualquier diferencia notable en las medias de los grupos podría considerarse significativa.\n",
    "\n",
    "Las hipótesis en ANOVA suelen incluir:\n",
    "\n",
    "- **Hipótesis nula** ($H₀$): Las medias de todos los grupos son iguales.\n",
    "- **Hipótesis alternativa** ($H₁$): Al menos una de las medias del grupo es diferente.\n",
    "\n",
    "Si el resultado de la prueba ANOVA es significativo (por ejemplo, un valor p inferior a un umbral como 0,05), esto sugiere que al menos la media de un grupo es diferente."
   ]
  },
  {
   "cell_type": "markdown",
   "id": "1ce7793b",
   "metadata": {},
   "source": [
    "### Enunciado\n",
    "\n",
    "Un agricultor decide probar tres tipos diferentes de fertilizantes para determinar si alguno es superior en términos de producción de maíz. El agricultor planta maíz en 15 parcelas idénticas y utiliza los tres fertilizantes (5 parcelas para cada tipo). Al final de la temporada mide el rendimiento de maíz (en kg) de cada parcela, con el siguiente resultado:\n",
    "\n",
    "| Fertilizante 1 | Fertilizante 2 | Fertilizante 3 |\n",
    "|:-------------|:-------------|:-------------|\n",
    "| 20 | 22 | 24 |\n",
    "| 21 | 21 | 23 |\n",
    "| 20 | 23 | 22 |\n",
    "| 19 | 22 | 23 |\n",
    "| 20 | 21 | 24 |\n",
    "\n",
    "Con estos datos busca responder la siguiente pregunta: ¿Existe una diferencia significativa en el rendimiento promedio del maíz entre los tres tipos de fertilizantes?\n",
    "\n",
    "Para ayudarte, sigue los siguientes puntos:\n",
    "\n",
    "- Enunciar la hipótesis: hipótesis nula y alternativa.\n",
    "- Realizar la prueba ANOVA.\n",
    "- Analizar las conclusiones.\n",
    "- Si un fertilizante es mejor que otro, ¿cómo podemos saberlo?"
   ]
  },
  {
   "cell_type": "markdown",
   "id": "76caf5e5",
   "metadata": {},
   "source": [
    "### Enunciamos las hipótesis\n",
    "- H_0: \"No existe diferencia significativa en el rendimiento generado por los fertilizantes\"\n",
    "- H_1: \"Sí existe diferencia significativa en el rendimienta generado por los fertilizantes\""
   ]
  },
  {
   "cell_type": "markdown",
   "id": "426f4600",
   "metadata": {},
   "source": [
    "### Realizamos la preba ANOVA\n",
    ">Inicializamos el Nivel de Significancia (alpha) en un 5% y las listas con los datos."
   ]
  },
  {
   "cell_type": "code",
   "execution_count": 37,
   "id": "68cf60d7",
   "metadata": {},
   "outputs": [],
   "source": [
    "alpha_ = 0.05\n",
    "fertilizer_1 = np.array([20, 21, 20, 19, 20])\n",
    "fertilizer_2 = np.array([22, 21, 23, 22, 21])\n",
    "fertilizer_3 = np.array([24, 23, 22, 23, 24])\n"
   ]
  },
  {
   "cell_type": "markdown",
   "id": "71a2b215",
   "metadata": {},
   "source": [
    ">Aplicamos la funcion de scipy f_oneway() ya que tenemos dos conjuntos de datos para obtener el p-value y lo convierto de un float de numpy a uno de python por estetica y decison personal."
   ]
  },
  {
   "cell_type": "code",
   "execution_count": 38,
   "id": "7cbcdf15",
   "metadata": {},
   "outputs": [
    {
     "data": {
      "text/plain": [
       "0.004083270191713912"
      ]
     },
     "execution_count": 38,
     "metadata": {},
     "output_type": "execute_result"
    }
   ],
   "source": [
    "_,p_value_ = scipy.stats.f_oneway(fertilizer_1, fertilizer_2, fertilizer_3)\n",
    "float(p_value)"
   ]
  },
  {
   "cell_type": "markdown",
   "id": "f6c6de41",
   "metadata": {},
   "source": [
    ">Verificamos la hipotesis comparando el p-value con el Nivel de significacnia."
   ]
  },
  {
   "cell_type": "code",
   "execution_count": 39,
   "id": "a3454c93",
   "metadata": {},
   "outputs": [
    {
     "data": {
      "text/plain": [
       "'Rechazamos que no haya una diferencia significativa en el rendimiento generado por los fertilizantes'"
      ]
     },
     "execution_count": 39,
     "metadata": {},
     "output_type": "execute_result"
    }
   ],
   "source": [
    "'Rechazamos que no haya una diferencia significativa en el rendimiento generado por los fertilizantes' if p_value_ <= alpha_ else 'No podemos rechazar que no haya una diferencia significativa en el rendimiento generado por los fertilizantes'"
   ]
  },
  {
   "cell_type": "markdown",
   "id": "449caa51",
   "metadata": {},
   "source": [
    "### Conclusiones\n",
    "\n",
    "Al rechazar H_0 (No existe diferencia significativa en el rendimiento generado por los fertilizantes) estamos afirmando su negación que es H_1 (Sí existe diferencia significativa en el rendimienta generado por los fertilizantes).\n",
    "\n",
    "En resumen, podemos afirmar que hay una diferencia significativa en la producción de maíz utilizando los diferentes fertilizantes."
   ]
  },
  {
   "cell_type": "markdown",
   "id": "7f7a4eb0",
   "metadata": {},
   "source": [
    "### El mejor fertilizante\n",
    ">Para saber si un fertilizante es mejor que otro los compararemos los fertilizantes dos a dos con el mismo formato que el ejercicio 1 y haremos una serie de if, elif y else para ver cual de los 3 es el mayor\n",
    "\n",
    ">Utilizo el ttest_ind para comparar dos y el alternative='greater' para ver si el primer conjunto de datos es significativamente mayor que el segundo"
   ]
  },
  {
   "cell_type": "code",
   "execution_count": null,
   "id": "794e080b",
   "metadata": {},
   "outputs": [
    {
     "data": {
      "text/plain": [
       "'El mejor fertilizante significativamente es el número 3'"
      ]
     },
     "execution_count": 40,
     "metadata": {},
     "output_type": "execute_result"
    }
   ],
   "source": [
    "best_fertilizer = 0\n",
    "_, comparison_1_2 = scipy.stats.ttest_ind(fertilizer_1, fertilizer_2, alternative='greater')\n",
    "_, comparison_1_3 = scipy.stats.ttest_ind(fertilizer_1, fertilizer_3, alternative='greater')\n",
    "_, comparison_2_3 = scipy.stats.ttest_ind(fertilizer_2, fertilizer_3, alternative='greater')\n",
    "\n",
    "if comparison_1_2 <= alpha_:\n",
    "    if comparison_1_3 <= alpha_:\n",
    "        best_fertilizer = 1\n",
    "    else:\n",
    "        best_fertilizer = 3\n",
    "elif comparison_2_3 <= alpha_:\n",
    "    best_fertilizer = 2\n",
    "else:\n",
    "    best_fertilizer = 3\n",
    "\n",
    "f'El mejor fertilizante significativamente es el número {best_fertilizer}'"
   ]
  }
 ],
 "metadata": {
  "kernelspec": {
   "display_name": "Python 3",
   "language": "python",
   "name": "python3"
  },
  "language_info": {
   "codemirror_mode": {
    "name": "ipython",
    "version": 3
   },
   "file_extension": ".py",
   "mimetype": "text/x-python",
   "name": "python",
   "nbconvert_exporter": "python",
   "pygments_lexer": "ipython3",
   "version": "3.11.4"
  }
 },
 "nbformat": 4,
 "nbformat_minor": 5
}
